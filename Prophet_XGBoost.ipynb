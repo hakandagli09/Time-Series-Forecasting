{
 "cells": [
  {
   "cell_type": "markdown",
   "metadata": {},
   "source": [
    "### Setup"
   ]
  },
  {
   "cell_type": "code",
   "execution_count": 30,
   "metadata": {},
   "outputs": [],
   "source": [
    "import pandas as pd\n",
    "import numpy as np\n",
    "import matplotlib.pyplot as plt\n",
    "import matplotlib.dates as mdates\n",
    "from mexican_holidays_ import mexican_holidays\n",
    "from prophet import Prophet\n",
    "from sklearn.metrics import mean_squared_error, mean_absolute_error\n",
    "import xgboost as xgb\n",
    "import plotly.graph_objs as go"
   ]
  },
  {
   "cell_type": "markdown",
   "metadata": {},
   "source": [
    "### Loading and preprocessing data"
   ]
  },
  {
   "cell_type": "code",
   "execution_count": 31,
   "metadata": {},
   "outputs": [
    {
     "data": {
      "text/html": [
       "<div>\n",
       "<style scoped>\n",
       "    .dataframe tbody tr th:only-of-type {\n",
       "        vertical-align: middle;\n",
       "    }\n",
       "\n",
       "    .dataframe tbody tr th {\n",
       "        vertical-align: top;\n",
       "    }\n",
       "\n",
       "    .dataframe thead th {\n",
       "        text-align: right;\n",
       "    }\n",
       "</style>\n",
       "<table border=\"1\" class=\"dataframe\">\n",
       "  <thead>\n",
       "    <tr style=\"text-align: right;\">\n",
       "      <th></th>\n",
       "      <th>ds</th>\n",
       "      <th>y</th>\n",
       "      <th>Price</th>\n",
       "    </tr>\n",
       "  </thead>\n",
       "  <tbody>\n",
       "    <tr>\n",
       "      <th>0</th>\n",
       "      <td>2019-01-06</td>\n",
       "      <td>4.682682e+06</td>\n",
       "      <td>21.18692</td>\n",
       "    </tr>\n",
       "    <tr>\n",
       "      <th>1</th>\n",
       "      <td>2019-01-13</td>\n",
       "      <td>6.736127e+06</td>\n",
       "      <td>21.66080</td>\n",
       "    </tr>\n",
       "    <tr>\n",
       "      <th>2</th>\n",
       "      <td>2019-01-20</td>\n",
       "      <td>6.111553e+06</td>\n",
       "      <td>21.74350</td>\n",
       "    </tr>\n",
       "    <tr>\n",
       "      <th>3</th>\n",
       "      <td>2019-01-27</td>\n",
       "      <td>6.863234e+06</td>\n",
       "      <td>21.22170</td>\n",
       "    </tr>\n",
       "    <tr>\n",
       "      <th>4</th>\n",
       "      <td>2019-02-03</td>\n",
       "      <td>7.336746e+06</td>\n",
       "      <td>20.65344</td>\n",
       "    </tr>\n",
       "  </tbody>\n",
       "</table>\n",
       "</div>"
      ],
      "text/plain": [
       "          ds             y     Price\n",
       "0 2019-01-06  4.682682e+06  21.18692\n",
       "1 2019-01-13  6.736127e+06  21.66080\n",
       "2 2019-01-20  6.111553e+06  21.74350\n",
       "3 2019-01-27  6.863234e+06  21.22170\n",
       "4 2019-02-03  7.336746e+06  20.65344"
      ]
     },
     "execution_count": 31,
     "metadata": {},
     "output_type": "execute_result"
    }
   ],
   "source": [
    "# Load data\n",
    "data = pd.read_csv('weekly_clean_data_.csv')\n",
    "\n",
    "# Data transformation: convert date column to datetime\n",
    "data['ds'] = pd.to_datetime(data['ds'], format='%Y-%m-%d') \n",
    "\n",
    "# Add holiday indicator using vectorized assignment\n",
    "data['holiday'] = 0\n",
    "\n",
    "mexican_holidays_dates = mexican_holidays\n",
    "data.loc[data['ds'].isin(mexican_holidays_dates), 'holiday'] = 1\n",
    "\n",
    "# Create holidays dataframe for Prophet\n",
    "holidays_df = pd.DataFrame({\n",
    "    'holiday':'holi',\n",
    "    'ds': pd.to_datetime(mexican_holidays_dates),\n",
    "    'lower_window': -7,\n",
    "    'upper_window': 3\n",
    "})\n",
    "\n",
    "# Mark holidays in data\n",
    "for i, row in holidays_df.iterrows():\n",
    "    data.loc[data['ds'] == row['ds'], 'holiday'] = 1\n",
    "\n",
    "# Remove holiday column if not needed further\n",
    "data = data.drop(columns=['holiday'])\n",
    "\n",
    "data.head()"
   ]
  },
  {
   "cell_type": "markdown",
   "metadata": {},
   "source": [
    "### Prepare training and test sets"
   ]
  },
  {
   "cell_type": "code",
   "execution_count": 21,
   "metadata": {},
   "outputs": [],
   "source": [
    "# Assume data is weekly\n",
    "test_weeks = 4\n",
    "training_set = data.iloc[:-test_weeks, :]\n",
    "test_set = data.iloc[-test_weeks:, :]"
   ]
  },
  {
   "cell_type": "markdown",
   "metadata": {},
   "source": [
    "### Fit Prophet Model"
   ]
  },
  {
   "cell_type": "code",
   "execution_count": 22,
   "metadata": {},
   "outputs": [
    {
     "name": "stderr",
     "output_type": "stream",
     "text": [
      "17:51:22 - cmdstanpy - INFO - Chain [1] start processing\n",
      "17:51:22 - cmdstanpy - INFO - Chain [1] done processing\n"
     ]
    }
   ],
   "source": [
    "# Initialize Prophet model\n",
    "\n",
    "m = Prophet(yearly_seasonality=True,\n",
    "            weekly_seasonality=False,\n",
    "            daily_seasonality=False,\n",
    "            holidays=holidays_df,\n",
    "            seasonality_mode='multiplicative',\n",
    "            seasonality_prior_scale=5,\n",
    "            holidays_prior_scale=5,\n",
    "            changepoint_prior_scale=0.05)\n",
    "\n",
    "m.add_regressor('Price')\n",
    "\n",
    "m.fit(training_set)\n",
    "\n",
    "# Create a future dataframe that spans the test period\n",
    "future = m.make_future_dataframe(periods=len(test_set), freq='W')\n",
    "\n",
    "future = pd.concat([future, data.iloc[:, 2:]], axis=1)\n",
    "\n",
    "# Generate forecast\n",
    "forecast = m.predict(future)\n",
    "\n",
    "# Key Prophet features for merging with XGBoost\n",
    "prophet_features = forecast[['ds', 'trend', 'holi', 'yearly']]"
   ]
  },
  {
   "cell_type": "markdown",
   "metadata": {},
   "source": [
    "### Merge features with XGBoost"
   ]
  },
  {
   "cell_type": "code",
   "execution_count": 23,
   "metadata": {},
   "outputs": [
    {
     "data": {
      "text/html": [
       "<div>\n",
       "<style scoped>\n",
       "    .dataframe tbody tr th:only-of-type {\n",
       "        vertical-align: middle;\n",
       "    }\n",
       "\n",
       "    .dataframe tbody tr th {\n",
       "        vertical-align: top;\n",
       "    }\n",
       "\n",
       "    .dataframe thead th {\n",
       "        text-align: right;\n",
       "    }\n",
       "</style>\n",
       "<table border=\"1\" class=\"dataframe\">\n",
       "  <thead>\n",
       "    <tr style=\"text-align: right;\">\n",
       "      <th></th>\n",
       "      <th>ds</th>\n",
       "      <th>y</th>\n",
       "      <th>Price</th>\n",
       "      <th>trend</th>\n",
       "      <th>holi</th>\n",
       "      <th>yearly</th>\n",
       "    </tr>\n",
       "  </thead>\n",
       "  <tbody>\n",
       "    <tr>\n",
       "      <th>0</th>\n",
       "      <td>2019-01-06</td>\n",
       "      <td>4.682682e+06</td>\n",
       "      <td>21.18692</td>\n",
       "      <td>6.588597e+06</td>\n",
       "      <td>0.031222</td>\n",
       "      <td>-0.409719</td>\n",
       "    </tr>\n",
       "    <tr>\n",
       "      <th>1</th>\n",
       "      <td>2019-01-13</td>\n",
       "      <td>6.736127e+06</td>\n",
       "      <td>21.66080</td>\n",
       "      <td>6.587526e+06</td>\n",
       "      <td>0.000000</td>\n",
       "      <td>-0.264470</td>\n",
       "    </tr>\n",
       "    <tr>\n",
       "      <th>2</th>\n",
       "      <td>2019-01-20</td>\n",
       "      <td>6.111553e+06</td>\n",
       "      <td>21.74350</td>\n",
       "      <td>6.586455e+06</td>\n",
       "      <td>0.000000</td>\n",
       "      <td>-0.146844</td>\n",
       "    </tr>\n",
       "    <tr>\n",
       "      <th>3</th>\n",
       "      <td>2019-01-27</td>\n",
       "      <td>6.863234e+06</td>\n",
       "      <td>21.22170</td>\n",
       "      <td>6.585384e+06</td>\n",
       "      <td>0.000000</td>\n",
       "      <td>-0.145264</td>\n",
       "    </tr>\n",
       "    <tr>\n",
       "      <th>4</th>\n",
       "      <td>2019-02-03</td>\n",
       "      <td>7.336746e+06</td>\n",
       "      <td>20.65344</td>\n",
       "      <td>6.584313e+06</td>\n",
       "      <td>0.000000</td>\n",
       "      <td>-0.218572</td>\n",
       "    </tr>\n",
       "  </tbody>\n",
       "</table>\n",
       "</div>"
      ],
      "text/plain": [
       "          ds             y     Price         trend      holi    yearly\n",
       "0 2019-01-06  4.682682e+06  21.18692  6.588597e+06  0.031222 -0.409719\n",
       "1 2019-01-13  6.736127e+06  21.66080  6.587526e+06  0.000000 -0.264470\n",
       "2 2019-01-20  6.111553e+06  21.74350  6.586455e+06  0.000000 -0.146844\n",
       "3 2019-01-27  6.863234e+06  21.22170  6.585384e+06  0.000000 -0.145264\n",
       "4 2019-02-03  7.336746e+06  20.65344  6.584313e+06  0.000000 -0.218572"
      ]
     },
     "execution_count": 23,
     "metadata": {},
     "output_type": "execute_result"
    }
   ],
   "source": [
    "df_xgb = pd.merge(data, prophet_features, on='ds', how='left')\n",
    "\n",
    "df_xgb.head()"
   ]
  },
  {
   "cell_type": "markdown",
   "metadata": {},
   "source": [
    "### Prepare data for XGBoost"
   ]
  },
  {
   "cell_type": "code",
   "execution_count": 24,
   "metadata": {},
   "outputs": [],
   "source": [
    "if 'index' in df_xgb.columns:\n",
    "    df_xgb = df_xgb.drop(columns=['index'])\n",
    "\n",
    "training_set_xgb = df_xgb.iloc[:-test_weeks, :]\n",
    "test_set_xgb = df_xgb.iloc[-test_weeks:, :]\n",
    "\n",
    "y_train = training_set_xgb['y']\n",
    "y_test = test_set_xgb['y']\n",
    "X_train = training_set_xgb.drop(columns=['ds', 'y'])\n",
    "X_test = test_set_xgb.drop(columns=['ds', 'y'])"
   ]
  },
  {
   "cell_type": "markdown",
   "metadata": {},
   "source": [
    "### Train XGBoost Model"
   ]
  },
  {
   "cell_type": "code",
   "execution_count": 25,
   "metadata": {},
   "outputs": [
    {
     "name": "stdout",
     "output_type": "stream",
     "text": [
      "[0]\tTest-rmse:988759.99816\n",
      "[15]\tTest-rmse:885277.16696\n",
      "[30]\tTest-rmse:832122.24667\n",
      "[45]\tTest-rmse:783046.59687\n",
      "[60]\tTest-rmse:705420.00371\n",
      "[75]\tTest-rmse:595166.93026\n",
      "[90]\tTest-rmse:548738.05645\n",
      "[99]\tTest-rmse:549842.69320\n",
      "ds\n",
      "2024-05-12    5418573.5\n",
      "2024-05-19    6498462.0\n",
      "2024-05-26    6865682.0\n",
      "2024-06-02    7495677.0\n",
      "Name: XGBoost, dtype: float32\n"
     ]
    }
   ],
   "source": [
    "# Matrix objects\n",
    "Train = xgb.DMatrix(X_train, label=y_train)\n",
    "Test = xgb.DMatrix(X_test, label=y_test)\n",
    "\n",
    "parameters = {\n",
    "    'learning_rate': 0.01, \n",
    "    'max_depth': 5, \n",
    "    'colsample_bytree': 1,\n",
    "    'min_child_weight': 1,\n",
    "    'gamma': 0, \n",
    "    'random_state': 1502,\n",
    "    'eval_metric': 'rmse',\n",
    "    'objective': 'reg:squarederror'\n",
    "}\n",
    "\n",
    "model_xgb = xgb.train(params=parameters,\n",
    "                      dtrain=Train,\n",
    "                      num_boost_round=100,\n",
    "                      evals=[[Test, 'Test']],\n",
    "                      verbose_eval=15)\n",
    "\n",
    "predictions_xgb = pd.Series(model_xgb.predict(Test), name='XGBoost')\n",
    "predictions_xgb.index = pd.to_datetime(test_set_xgb['ds'])\n",
    "print(predictions_xgb)"
   ]
  },
  {
   "cell_type": "markdown",
   "metadata": {},
   "source": [
    "### Visualization"
   ]
  },
  {
   "cell_type": "code",
   "execution_count": 29,
   "metadata": {},
   "outputs": [
    {
     "data": {
      "image/png": "[encoded data removed]",
      "text/plain": [
       "<Figure size 1200x600 with 1 Axes>"
      ]
     },
     "metadata": {},
     "output_type": "display_data"
    }
   ],
   "source": [
    "def plot_forecasts(training_set, test_set, predictions, title='XGBoost Forecasts', start_date='2022-01-01'):\n",
    "    start_date = pd.to_datetime(start_date)\n",
    "\n",
    "    fig, ax = plt.subplots(figsize=(12, 6))\n",
    "\n",
    "    #Filter data based on start_date\n",
    "    training_filtered = training_set[training_set['ds'] >= start_date]\n",
    "    predictions_filtered = predictions[predictions.index >= start_date]\n",
    "\n",
    "    # Plot training data\n",
    "    ax.plot(training_filtered['ds'], training_filtered['y'], label='Training Data', color='blue',linewidth=2)\n",
    "\n",
    "    # Plot test data\n",
    "    ax.plot(test_set['ds'], test_set['y'], label='Test Data', color='green', linewidth=2, linestyle='dashed')\n",
    "\n",
    "    # Plot forecasts\n",
    "    ax.plot(predictions_filtered.index, predictions_filtered, label = 'Forecast (XGBoost)', color='red', linewidth=2)\n",
    "\n",
    "    # Format x-axis dates\n",
    "    ax.xaxis.set_major_locator(mdates.MonthLocator())\n",
    "    ax.xaxis.set_major_formatter(mdates.DateFormatter('%Y-%m'))\n",
    "    fig.autofmt_xdate()\n",
    "\n",
    "    # Set title and labels\n",
    "    ax.set_xlabel('Date',fontsize=12)\n",
    "    ax.set_ylabel('Amount',fontsize=12)\n",
    "    ax.set_title(title, fontsize=16)\n",
    "    ax.legend()\n",
    "\n",
    "    plt.show()\n",
    "\n",
    "plot_forecasts(training_set, test_set, predictions_xgb, title='XGBoost Forecasts', start_date='2022-01-01')\n",
    "\n"
   ]
  },
  {
   "cell_type": "markdown",
   "metadata": {},
   "source": [
    "### Model Evaluation"
   ]
  },
  {
   "cell_type": "code",
   "execution_count": 27,
   "metadata": {},
   "outputs": [
    {
     "name": "stdout",
     "output_type": "stream",
     "text": [
      "MAE: 402814.0\n",
      "RMSE: 549843.0\n",
      "MAPE: 7.000583071932325\n"
     ]
    }
   ],
   "source": [
    "mae = mean_absolute_error(test_set_xgb['y'], predictions_xgb)\n",
    "rmse = np.sqrt(mean_squared_error(test_set_xgb['y'], predictions_xgb))\n",
    "\n",
    "def MAPE(y_true, y_pred):\n",
    "    y_true, y_pred = np.array(y_true), np.array(y_pred)\n",
    "    return np.mean(np.abs((y_true - y_pred) / y_true)) * 100\n",
    "\n",
    "mape = MAPE(test_set_xgb['y'], predictions_xgb)\n",
    "\n",
    "print('MAE:', round(mae, 0))\n",
    "print('RMSE:', round(rmse, 0))\n",
    "print('MAPE:', mape)"
   ]
  }
 ],
 "metadata": {
  "kernelspec": {
   "display_name": "base",
   "language": "python",
   "name": "python3"
  },
  "language_info": {
   "codemirror_mode": {
    "name": "ipython",
    "version": 3
   },
   "file_extension": ".py",
   "mimetype": "text/x-python",
   "name": "python",
   "nbconvert_exporter": "python",
   "pygments_lexer": "ipython3",
   "version": "3.11.7"
  }
 },
 "nbformat": 4,
 "nbformat_minor": 2
}
